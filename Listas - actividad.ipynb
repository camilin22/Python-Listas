{
 "cells": [
  {
   "cell_type": "markdown",
   "metadata": {},
   "source": [
    "## Listas - Actividad"
   ]
  },
  {
   "cell_type": "markdown",
   "metadata": {},
   "source": [
    "1) Escribe una función que tome una lista de números como argumento y devuelva una nueva lista que contenga solo los números pares."
   ]
  },
  {
   "cell_type": "code",
   "execution_count": 1,
   "metadata": {},
   "outputs": [
    {
     "name": "stdout",
     "output_type": "stream",
     "text": [
      "Lista original: [1, 2, 3, 4, 5, 6, 7, 8, 9, 10]\n",
      "Números pares: [2, 4, 6, 8, 10]\n"
     ]
    }
   ],
   "source": [
    "def numeros_pares(lista):\n",
    "    pares = list(filter(lambda x: x % 2 == 0, lista))\n",
    "    return pares\n",
    "\n",
    "numeros = [1, 2, 3, 4, 5, 6, 7, 8, 9, 10]\n",
    "\n",
    "pares = numeros_pares(numeros)\n",
    "print(\"Lista original:\", numeros)\n",
    "print(\"Números pares:\", pares)"
   ]
  },
  {
   "cell_type": "markdown",
   "metadata": {},
   "source": [
    "2) Escribe una función que tome una lista y elimine los elementos duplicados, devolviendo una nueva lista sin duplicados. El orden de los elementos debe mantenerse."
   ]
  },
  {
   "cell_type": "code",
   "execution_count": 3,
   "metadata": {},
   "outputs": [
    {
     "name": "stdout",
     "output_type": "stream",
     "text": [
      "[1, 2, 3, 4, 5, 6]\n"
     ]
    }
   ],
   "source": [
    "def eliminar_duplicados(lista):\n",
    "    lista_sin_duplicados = []\n",
    "    for elemento in lista:\n",
    "        if elemento not in lista_sin_duplicados:\n",
    "            lista_sin_duplicados.append(elemento)\n",
    "    return lista_sin_duplicados\n",
    "\n",
    "\n",
    "lista_con_duplicados = [1, 2, 3, 2, 1, 4, 5, 6, 5]\n",
    "lista_sin_duplicados = eliminar_duplicados(lista_con_duplicados)\n",
    "print(lista_sin_duplicados)"
   ]
  },
  {
   "cell_type": "markdown",
   "metadata": {},
   "source": [
    "3) Escribe una función que tome una lista y un elemento como argumentos, y elimine todas las ocurrencias de ese elemento en la lista. Devuelve la lista modificada."
   ]
  },
  {
   "cell_type": "code",
   "execution_count": 4,
   "metadata": {},
   "outputs": [
    {
     "name": "stdout",
     "output_type": "stream",
     "text": [
      "[1, 3, 4, 5]\n"
     ]
    }
   ],
   "source": [
    "def eliminar_ocurrencias(lista, elemento):\n",
    "    while elemento in lista:\n",
    "        lista.remove(elemento)\n",
    "    return lista\n",
    "\n",
    "\n",
    "mi_lista = [1, 2, 3, 4, 2, 5, 2]\n",
    "elemento_a_eliminar = 2\n",
    "lista_modificada = eliminar_ocurrencias(mi_lista, elemento_a_eliminar)\n",
    "print(lista_modificada)"
   ]
  },
  {
   "cell_type": "markdown",
   "metadata": {},
   "source": [
    "4) Escribe una función que tome una lista de números como argumento y devuelva una nueva lista que contenga solo los números que son mayores que 0 (cero), ordenados de menor a mayor."
   ]
  },
  {
   "cell_type": "code",
   "execution_count": 5,
   "metadata": {},
   "outputs": [
    {
     "name": "stdout",
     "output_type": "stream",
     "text": [
      "[3, 5, 7, 10]\n"
     ]
    }
   ],
   "source": [
    "def numeros_mayores_cero(lista):\n",
    "    numeros_filtrados = [num for num in lista if num > 0]\n",
    "    numeros_filtrados.sort()  \n",
    "    return numeros_filtrados\n",
    "\n",
    "\n",
    "numeros = [-2, 5, 0, 10, -1, 3, 7]\n",
    "numeros_filtrados = numeros_mayores_cero(numeros)\n",
    "print(numeros_filtrados)"
   ]
  },
  {
   "cell_type": "markdown",
   "metadata": {},
   "source": [
    "5) Crear una función que cuente la cantidad de veces que se repite cada elemento de una lista. Devolver un diccionario con los elementos y sus repeticiones.\n",
    "\n",
    "> Consejo: Usar el método `count` de las listas y listas por comprensión."
   ]
  },
  {
   "cell_type": "code",
   "execution_count": 6,
   "metadata": {},
   "outputs": [
    {
     "name": "stdout",
     "output_type": "stream",
     "text": [
      "{1: 1, 2: 2, 3: 3, 4: 4}\n"
     ]
    }
   ],
   "source": [
    "def contar_repeticiones(lista):\n",
    "    contador = {}\n",
    "    \n",
    "    for elemento in lista:\n",
    "        if elemento in contador:\n",
    "            contador[elemento] += 1\n",
    "        else:\n",
    "            contador[elemento] = 1\n",
    "    \n",
    "    return contador\n",
    "\n",
    "\n",
    "mi_lista = [1, 2, 2, 3, 3, 3, 4, 4, 4, 4]\n",
    "resultado = contar_repeticiones(mi_lista)\n",
    "print(resultado)"
   ]
  },
  {
   "cell_type": "markdown",
   "metadata": {},
   "source": [
    "6) Escribe una función que tome un número entero positivo n como argumento y devuelva una lista de los primeros n números primos.\n",
    "\n",
    "> Nota: Un número primo es un número natural mayor que 1 que es divisible únicamente por 1 y por sí mismo."
   ]
  },
  {
   "cell_type": "code",
   "execution_count": 10,
   "metadata": {},
   "outputs": [
    {
     "name": "stdout",
     "output_type": "stream",
     "text": [
      "[2, 3, 5, 7, 11, 13, 17, 19, 23, 29]\n"
     ]
    }
   ],
   "source": [
    "def es_primo(num):\n",
    "    if num < 2:\n",
    "        return False\n",
    "    for i in range(2, int(num ** 0.5) + 1):\n",
    "        if num % i == 0:\n",
    "            return False\n",
    "    return True\n",
    "\n",
    "def lista_primos(n):\n",
    "    numeros_primos = []\n",
    "    numero = 2\n",
    "    while len(numeros_primos) < n:\n",
    "        if es_primo(numero):\n",
    "            numeros_primos.append(numero)\n",
    "        numero += 1\n",
    "    return numeros_primos\n",
    "\n",
    "n = 10  \n",
    "primeros_n_primos = lista_primos(n)\n",
    "print(primeros_n_primos)"
   ]
  },
  {
   "cell_type": "markdown",
   "metadata": {},
   "source": [
    "7) Escribe una función que tome una lista de números como argumento y devuelva `True` si la lista está ordenada en orden descendente y `False` en caso contrario."
   ]
  },
  {
   "cell_type": "code",
   "execution_count": 13,
   "metadata": {},
   "outputs": [
    {
     "name": "stdout",
     "output_type": "stream",
     "text": [
      "True\n"
     ]
    }
   ],
   "source": [
    "def esta_ordenada_descendente(lista):\n",
    "    return all(lista[i] >= lista[i + 1] for i in range(len(lista) - 1))\n",
    "\n",
    "\n",
    "mi_lista = [10, 8, 5, 3, 1]\n",
    "resultado = esta_ordenada_descendente(mi_lista)\n",
    "print(resultado)"
   ]
  }
 ],
 "metadata": {
  "kernelspec": {
   "display_name": "Python 3",
   "language": "python",
   "name": "python3"
  },
  "language_info": {
   "codemirror_mode": {
    "name": "ipython",
    "version": 3
   },
   "file_extension": ".py",
   "mimetype": "text/x-python",
   "name": "python",
   "nbconvert_exporter": "python",
   "pygments_lexer": "ipython3",
   "version": "3.11.4"
  }
 },
 "nbformat": 4,
 "nbformat_minor": 2
}
